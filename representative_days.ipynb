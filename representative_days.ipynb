{
 "cells": [
  {
   "cell_type": "code",
   "execution_count": 1,
   "id": "initial_id",
   "metadata": {
    "ExecuteTime": {
     "end_time": "2024-12-11T16:12:00.318419Z",
     "start_time": "2024-12-11T16:11:59.957090Z"
    },
    "collapsed": true
   },
   "outputs": [],
   "source": [
    "import os\n",
    "import pandas as pd\n",
    "\n",
    "from utils import get_years_renewables, find_special_days, format_optim_repr_days, launch_optim_repr_days, parse_repr_days, format_epm_phours, format_epm_pvreprofile, format_data_energy"
   ]
  },
  {
   "cell_type": "markdown",
   "id": "dad8508e",
   "metadata": {},
   "source": [
    "### What this script does ?\n",
    "\n",
    "1. Extract renewables generation data from Ninja API.\n",
    "2. Calculate representative year among historical data.\n",
    "3. Calculate special and representatative days within this year.\n",
    "4. Export pHours, pVREgen in EPM format."
   ]
  },
  {
   "cell_type": "markdown",
   "id": "23627c6dcb34d999",
   "metadata": {
    "collapsed": false
   },
   "source": [
    "### User input parameters (to manually change)"
   ]
  },
  {
   "cell_type": "code",
   "execution_count": 2,
   "id": "7df06abc337e3ae1",
   "metadata": {
    "ExecuteTime": {
     "end_time": "2024-12-11T16:12:00.321394Z",
     "start_time": "2024-12-11T16:12:00.319646Z"
    },
    "collapsed": false
   },
   "outputs": [],
   "source": [
    "name_data = 'guinea' # Name of the zone, used to name the folder where the data is stored\n",
    "extract_renewables = {'solar': False, 'wind': False} # Set to True to extract data from Renewables Ninja"
   ]
  },
  {
   "cell_type": "markdown",
   "id": "1a12e9ff",
   "metadata": {},
   "source": [
    "### Create the folder structure"
   ]
  },
  {
   "cell_type": "code",
   "execution_count": 3,
   "id": "c1f8a2a9c2d81704",
   "metadata": {
    "ExecuteTime": {
     "end_time": "2024-12-11T16:12:00.825833Z",
     "start_time": "2024-12-11T16:12:00.822665Z"
    },
    "collapsed": false
   },
   "outputs": [],
   "source": [
    "folder_raw_data = 'data'\n",
    "# Make folder\n",
    "if not os.path.exists(folder_raw_data):\n",
    "    os.makedirs(folder_raw_data)\n",
    "folder_raw_data = os.path.join(folder_raw_data, name_data)\n",
    "if not os.path.exists(folder_raw_data):\n",
    "    os.makedirs(folder_raw_data)\n",
    "    \n",
    "folder_process_data = 'parse_data'\n",
    "# Make folder\n",
    "if not os.path.exists(folder_process_data):\n",
    "    os.makedirs(folder_process_data)\n",
    "folder_process_data = os.path.join(folder_process_data, name_data)\n",
    "if not os.path.exists(folder_process_data):\n",
    "    os.makedirs(folder_process_data)"
   ]
  },
  {
   "cell_type": "markdown",
   "id": "e499e8d76f214429",
   "metadata": {
    "collapsed": false
   },
   "source": [
    "### 1. Extract data from Renewables Ninja"
   ]
  },
  {
   "cell_type": "markdown",
   "id": "73d7a3d1274aab7f",
   "metadata": {
    "collapsed": false
   },
   "source": [
    "#### User input parameters (to manually change) \n",
    "\n",
    "Do not use this cell if data is already extracted"
   ]
  },
  {
   "cell_type": "code",
   "execution_count": 4,
   "id": "ddcb0ca230279125",
   "metadata": {
    "ExecuteTime": {
     "end_time": "2024-12-11T16:03:32.129434Z",
     "start_time": "2024-12-11T16:03:32.126018Z"
    },
    "collapsed": false
   },
   "outputs": [],
   "source": [
    "locations = [(10.1154, -13.1917)] # List of (latitude, longitude) tuples\n",
    "power_types = ['solar', 'wind'] # 'wind' or 'solar'\n",
    "start_year = 1980 # earliest year is 1980\n",
    "end_year = 2024"
   ]
  },
  {
   "cell_type": "code",
   "execution_count": 5,
   "id": "d885ecd3372183e3",
   "metadata": {
    "ExecuteTime": {
     "end_time": "2024-12-11T16:05:23.497585Z",
     "start_time": "2024-12-11T16:03:32.591534Z"
    },
    "collapsed": false
   },
   "outputs": [],
   "source": [
    "for power_type in power_types:\n",
    "    if extract_renewables[power_type]:\n",
    "        get_years_renewables(locations=locations, power_type=power_type, start_year=start_year, \n",
    "                            end_year=end_year, name_data=name_data, output=folder_raw_data)"
   ]
  },
  {
   "cell_type": "markdown",
   "id": "43dd2948acb8a006",
   "metadata": {
    "collapsed": false
   },
   "source": [
    "### 2. Process data"
   ]
  },
  {
   "cell_type": "markdown",
   "id": "a040e7d0d8798c53",
   "metadata": {
    "collapsed": false
   },
   "source": [
    "#### User input parameters (to manually change) "
   ]
  },
  {
   "cell_type": "code",
   "execution_count": 6,
   "id": "c18890e05db2769b",
   "metadata": {
    "ExecuteTime": {
     "end_time": "2024-12-11T16:12:03.217526Z",
     "start_time": "2024-12-11T16:12:03.214983Z"
    },
    "collapsed": false
   },
   "outputs": [],
   "source": [
    "filenames = {'PV': os.path.join(folder_raw_data, 'data_{}_solar.csv'.format(name_data)),\n",
    "             'Wind': os.path.join(folder_raw_data, 'data_{}_wind.csv'.format(name_data))}"
   ]
  },
  {
   "cell_type": "code",
   "execution_count": 7,
   "id": "15f90dd6",
   "metadata": {},
   "outputs": [
    {
     "name": "stdout",
     "output_type": "stream",
     "text": [
      "Annual capacity factor (%): PV      0.159687\n",
      "Wind    0.140683\n",
      "dtype: float64\n",
      "File saved at: parse_data/guinea/data_formatted_optim_guinea.csv\n",
      "Command to execute: ['gams', '/Users/lucas/Documents/World Bank/Projects/RepresentativeDays/gams/OptimizationModel.gms', '--data /Users/lucas/Documents/World Bank/Projects/RepresentativeDays/parse_data/guinea/data_formatted_optim_guinea.csv', '--settings /Users/lucas/Documents/World Bank/Projects/RepresentativeDays/gams/settings.csv', '--N 3']\n",
      "Number of days: 59\n",
      "Total weight: 390.0\n",
      "File saved at: parse_data/guinea/pHours_guinea.csv\n",
      "Number of hours: 33384\n",
      "File saved at: parse_data/guinea/pVREProfile_guinea.csv\n"
     ]
    },
    {
     "name": "stderr",
     "output_type": "stream",
     "text": [
      "/opt/anaconda3/envs/gamsenv/lib/python3.8/site-packages/gams/transfer/containers/_container.py:73: UserWarning: The GAMS version (48.2.0) differs from the API version (47.6.0).\n",
      "  ws = GamsWorkspace()\n",
      "/opt/anaconda3/envs/gamsenv/lib/python3.8/site-packages/gams/core/numpy/gams2numpy.py:45: UserWarning: The GAMS version (48.2.0) differs from the API version (47.6.0).\n",
      "  ws = GamsWorkspace(system_directory=system_directory)\n"
     ]
    }
   ],
   "source": [
    "# Read, select representative year and format the data from .csv files\n",
    "df_energy = format_data_energy(filenames)\n",
    "# Find special days and remove them\n",
    "special_days, df_energy = find_special_days(df_energy)\n",
    "# Format the data (including correlation calculation) and save it in a .csv file\n",
    "_, path_data_file = format_optim_repr_days(df_energy, name_data, folder_process_data)\n",
    "# Launch the optimization to find the representative days\n",
    "launch_optim_repr_days(path_data_file, folder_process_data)\n",
    "# Get the results\n",
    "repr_days = parse_repr_days(folder_process_data, special_days)\n",
    "# Format the data to be used in EPM\n",
    "format_epm_phours(repr_days, folder_process_data, name_data=name_data)\n",
    "format_epm_pvreprofile(df_energy, repr_days, folder_process_data, name_data=name_data)\n"
   ]
  },
  {
   "cell_type": "code",
   "execution_count": null,
   "id": "9606ad87",
   "metadata": {},
   "outputs": [
    {
     "name": "stdout",
     "output_type": "stream",
     "text": [
      "File saved at: parse_data/guinea/pHours_guinea.csv\n",
      "Number of hours: 33384\n",
      "File saved at: parse_data/guinea/pVREProfile_guinea.csv\n"
     ]
    }
   ],
   "source": [
    "format_epm_phours(repr_days, folder_process_data, name_data=name_data)\n",
    "format_epm_pvreprofile(df_energy, repr_days, folder_process_data, name_data=name_data)"
   ]
  }
 ],
 "metadata": {
  "kernelspec": {
   "display_name": "firstEnv",
   "language": "python",
   "name": "firstenv"
  },
  "language_info": {
   "codemirror_mode": {
    "name": "ipython",
    "version": 3
   },
   "file_extension": ".py",
   "mimetype": "text/x-python",
   "name": "python",
   "nbconvert_exporter": "python",
   "pygments_lexer": "ipython3",
   "version": "3.8.20"
  }
 },
 "nbformat": 4,
 "nbformat_minor": 5
}
