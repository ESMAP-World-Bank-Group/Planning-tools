{
 "cells": [
  {
   "cell_type": "code",
   "id": "initial_id",
   "metadata": {
    "collapsed": true,
    "ExecuteTime": {
     "end_time": "2025-05-21T09:03:39.947802Z",
     "start_time": "2025-05-21T09:03:38.794434Z"
    }
   },
   "source": [
    "import os\n",
    "import pandas as pd\n",
    "import matplotlib.pyplot as plt\n",
    "\n",
    "from utils import *"
   ],
   "outputs": [
    {
     "name": "stderr",
     "output_type": "stream",
     "text": [
      "/Users/celia/Documents/WorldBank/Energy_planning/SAPP_2025/Data/Planning-tools/utils.py:713: SyntaxWarning: invalid escape sequence '\\{'\n",
      "  path_main_file = os.path.join(os.getcwd(), f'gams\\{gams_model}.gms')\n",
      "/Users/celia/Documents/WorldBank/Energy_planning/SAPP_2025/Data/Planning-tools/utils.py:714: SyntaxWarning: invalid escape sequence '\\{'\n",
      "  path_setting_file = os.path.join(os.getcwd(), f'gams\\{bins_settings}.csv')\n"
     ]
    }
   ],
   "execution_count": 1
  },
  {
   "metadata": {
    "ExecuteTime": {
     "end_time": "2025-05-21T09:03:40.004690Z",
     "start_time": "2025-05-21T09:03:40.000482Z"
    }
   },
   "cell_type": "code",
   "source": [
    "# Load test data\n",
    "inflows = pd.read_csv('data_test/hydro/inflow_baynes.csv')\n",
    "hydro_namibia = pd.read_csv('data_test/hydro/hydro_namibia.csv')"
   ],
   "id": "8488ce8ec0617327",
   "outputs": [],
   "execution_count": 2
  },
  {
   "metadata": {
    "ExecuteTime": {
     "end_time": "2025-05-21T09:03:40.652390Z",
     "start_time": "2025-05-21T09:03:40.641688Z"
    }
   },
   "cell_type": "code",
   "source": [
    "# Process data in right format\n",
    "inflows = inflows.set_index(['year', 'month', 'day']).stack()\n",
    "inflows.index.names = ['year', 'month', 'day', 'hour']\n",
    "inflows = inflows.to_frame().reset_index() \n",
    "inflows = inflows.loc[~((inflows.month == 2) & (inflows.day == 29))]  # ensuring we get 8760 hours\n",
    "inflows = inflows.drop(columns=['year', 'month', 'day', 'hour']).squeeze().values\n",
    "inflows "
   ],
   "id": "6af7303435909302",
   "outputs": [
    {
     "data": {
      "text/plain": [
       "array([ 97.4,  97.4,  97.4, ..., 108.2, 108.2, 108.2], shape=(8760,))"
      ]
     },
     "execution_count": 3,
     "metadata": {},
     "output_type": "execute_result"
    }
   ],
   "execution_count": 3
  },
  {
   "metadata": {
    "ExecuteTime": {
     "end_time": "2025-05-21T09:05:27.161302Z",
     "start_time": "2025-05-21T09:03:42.357823Z"
    }
   },
   "cell_type": "code",
   "source": [
    "# Solving the model\n",
    "# Options must be specified by the user.\n",
    "# To deactivate the minimum reservoir level constraint (if not relevant), you should use reservoir_min = 0.\n",
    "\n",
    "config = {\n",
    "    'hours': 8760,\n",
    "    'reservoir_size': 205000,  # in GWh\n",
    "    'reservoir_min': 0.6,  # constraint that 60% of reservoir be filled during second second\n",
    "    'hours_reservoir_min_constraints': np.arange(3 * 30 * 24, 6 * 30 * 24),  # specifying the hours when the minimum reservoir level constraints apply \n",
    "    'inflow': inflows\n",
    "}\n",
    "\n",
    "\n",
    "res, A_eq, b_eq = run_smoothing_reservoir(config)"
   ],
   "id": "e1cb99e4517439f0",
   "outputs": [
    {
     "name": "stderr",
     "output_type": "stream",
     "text": [
      "/Users/celia/Documents/WorldBank/Energy_planning/SAPP_2025/Data/Planning-tools/utils.py:713: SyntaxWarning: invalid escape sequence '\\{'\n",
      "  path_main_file = os.path.join(os.getcwd(), f'gams\\{gams_model}.gms')\n",
      "/Users/celia/Documents/WorldBank/Energy_planning/SAPP_2025/Data/Planning-tools/utils.py:714: SyntaxWarning: invalid escape sequence '\\{'\n",
      "  path_setting_file = os.path.join(os.getcwd(), f'gams\\{bins_settings}.csv')\n"
     ]
    },
    {
     "ename": "KeyboardInterrupt",
     "evalue": "",
     "output_type": "error",
     "traceback": [
      "\u001B[0;31m---------------------------------------------------------------------------\u001B[0m",
      "\u001B[0;31mKeyboardInterrupt\u001B[0m                         Traceback (most recent call last)",
      "Cell \u001B[0;32mIn[4], line 10\u001B[0m\n\u001B[1;32m      1\u001B[0m config \u001B[38;5;241m=\u001B[39m {\n\u001B[1;32m      2\u001B[0m     \u001B[38;5;124m'\u001B[39m\u001B[38;5;124mhours\u001B[39m\u001B[38;5;124m'\u001B[39m: \u001B[38;5;241m8760\u001B[39m,\n\u001B[1;32m      3\u001B[0m     \u001B[38;5;124m'\u001B[39m\u001B[38;5;124mreservoir_size\u001B[39m\u001B[38;5;124m'\u001B[39m: \u001B[38;5;241m205000\u001B[39m,  \u001B[38;5;66;03m# in GWh\u001B[39;00m\n\u001B[0;32m   (...)\u001B[0m\n\u001B[1;32m      6\u001B[0m     \u001B[38;5;124m'\u001B[39m\u001B[38;5;124minflow\u001B[39m\u001B[38;5;124m'\u001B[39m: inflows\n\u001B[1;32m      7\u001B[0m }\n\u001B[0;32m---> 10\u001B[0m res \u001B[38;5;241m=\u001B[39m \u001B[43mrun_smoothing_reservoir\u001B[49m\u001B[43m(\u001B[49m\u001B[43mconfig\u001B[49m\u001B[43m)\u001B[49m\n",
      "File \u001B[0;32m~/Documents/WorldBank/Energy_planning/SAPP_2025/Data/Planning-tools/utils.py:1490\u001B[0m, in \u001B[0;36mrun_smoothing_reservoir\u001B[0;34m(config)\u001B[0m\n\u001B[1;32m   1487\u001B[0m     row \u001B[38;5;241m+\u001B[39m\u001B[38;5;241m=\u001B[39m \u001B[38;5;241m1\u001B[39m\n\u001B[1;32m   1489\u001B[0m \u001B[38;5;66;03m# Solve\u001B[39;00m\n\u001B[0;32m-> 1490\u001B[0m res \u001B[38;5;241m=\u001B[39m \u001B[43mlinprog\u001B[49m\u001B[43m(\u001B[49m\u001B[43mc\u001B[49m\u001B[43m,\u001B[49m\u001B[43m \u001B[49m\u001B[43mA_ub\u001B[49m\u001B[38;5;241;43m=\u001B[39;49m\u001B[43mA_ub\u001B[49m\u001B[38;5;241;43m.\u001B[39;49m\u001B[43mtocsr\u001B[49m\u001B[43m(\u001B[49m\u001B[43m)\u001B[49m\u001B[43m,\u001B[49m\u001B[43m \u001B[49m\u001B[43mb_ub\u001B[49m\u001B[38;5;241;43m=\u001B[39;49m\u001B[43mb_ub\u001B[49m\u001B[43m[\u001B[49m\u001B[43m:\u001B[49m\u001B[43mrow\u001B[49m\u001B[43m]\u001B[49m\u001B[43m,\u001B[49m\n\u001B[1;32m   1491\u001B[0m \u001B[43m               \u001B[49m\u001B[43mA_eq\u001B[49m\u001B[38;5;241;43m=\u001B[39;49m\u001B[43mA_eq\u001B[49m\u001B[38;5;241;43m.\u001B[39;49m\u001B[43mtocsr\u001B[49m\u001B[43m(\u001B[49m\u001B[43m)\u001B[49m\u001B[43m,\u001B[49m\u001B[43m \u001B[49m\u001B[43mb_eq\u001B[49m\u001B[38;5;241;43m=\u001B[39;49m\u001B[43mb_eq\u001B[49m\u001B[43m,\u001B[49m\n\u001B[1;32m   1492\u001B[0m \u001B[43m               \u001B[49m\u001B[43mbounds\u001B[49m\u001B[38;5;241;43m=\u001B[39;49m\u001B[43mbounds\u001B[49m\u001B[43m,\u001B[49m\u001B[43m \u001B[49m\u001B[43mmethod\u001B[49m\u001B[38;5;241;43m=\u001B[39;49m\u001B[38;5;124;43m'\u001B[39;49m\u001B[38;5;124;43mhighs\u001B[39;49m\u001B[38;5;124;43m'\u001B[39;49m\u001B[43m)\u001B[49m\n\u001B[1;32m   1494\u001B[0m \u001B[38;5;66;03m# Output result status\u001B[39;00m\n\u001B[1;32m   1495\u001B[0m \u001B[38;5;28mprint\u001B[39m(res\u001B[38;5;241m.\u001B[39msuccess, res\u001B[38;5;241m.\u001B[39mfun)\n",
      "File \u001B[0;32m~/miniforge3/envs/epm/lib/python3.13/site-packages/scipy/optimize/_linprog.py:660\u001B[0m, in \u001B[0;36mlinprog\u001B[0;34m(c, A_ub, b_ub, A_eq, b_eq, bounds, method, callback, options, x0, integrality)\u001B[0m\n\u001B[1;32m    655\u001B[0m     \u001B[38;5;28;01mraise\u001B[39;00m \u001B[38;5;167;01mNotImplementedError\u001B[39;00m(\u001B[38;5;124m\"\u001B[39m\u001B[38;5;124mHiGHS solvers do not support the \u001B[39m\u001B[38;5;124m\"\u001B[39m\n\u001B[1;32m    656\u001B[0m                               \u001B[38;5;124m\"\u001B[39m\u001B[38;5;124mcallback interface.\u001B[39m\u001B[38;5;124m\"\u001B[39m)\n\u001B[1;32m    657\u001B[0m highs_solvers \u001B[38;5;241m=\u001B[39m {\u001B[38;5;124m'\u001B[39m\u001B[38;5;124mhighs-ipm\u001B[39m\u001B[38;5;124m'\u001B[39m: \u001B[38;5;124m'\u001B[39m\u001B[38;5;124mipm\u001B[39m\u001B[38;5;124m'\u001B[39m, \u001B[38;5;124m'\u001B[39m\u001B[38;5;124mhighs-ds\u001B[39m\u001B[38;5;124m'\u001B[39m: \u001B[38;5;124m'\u001B[39m\u001B[38;5;124msimplex\u001B[39m\u001B[38;5;124m'\u001B[39m,\n\u001B[1;32m    658\u001B[0m                  \u001B[38;5;124m'\u001B[39m\u001B[38;5;124mhighs\u001B[39m\u001B[38;5;124m'\u001B[39m: \u001B[38;5;28;01mNone\u001B[39;00m}\n\u001B[0;32m--> 660\u001B[0m sol \u001B[38;5;241m=\u001B[39m \u001B[43m_linprog_highs\u001B[49m\u001B[43m(\u001B[49m\u001B[43mlp\u001B[49m\u001B[43m,\u001B[49m\u001B[43m \u001B[49m\u001B[43msolver\u001B[49m\u001B[38;5;241;43m=\u001B[39;49m\u001B[43mhighs_solvers\u001B[49m\u001B[43m[\u001B[49m\u001B[43mmeth\u001B[49m\u001B[43m]\u001B[49m\u001B[43m,\u001B[49m\n\u001B[1;32m    661\u001B[0m \u001B[43m                     \u001B[49m\u001B[38;5;241;43m*\u001B[39;49m\u001B[38;5;241;43m*\u001B[39;49m\u001B[43msolver_options\u001B[49m\u001B[43m)\u001B[49m\n\u001B[1;32m    662\u001B[0m sol[\u001B[38;5;124m'\u001B[39m\u001B[38;5;124mstatus\u001B[39m\u001B[38;5;124m'\u001B[39m], sol[\u001B[38;5;124m'\u001B[39m\u001B[38;5;124mmessage\u001B[39m\u001B[38;5;124m'\u001B[39m] \u001B[38;5;241m=\u001B[39m (\n\u001B[1;32m    663\u001B[0m     _check_result(sol[\u001B[38;5;124m'\u001B[39m\u001B[38;5;124mx\u001B[39m\u001B[38;5;124m'\u001B[39m], sol[\u001B[38;5;124m'\u001B[39m\u001B[38;5;124mfun\u001B[39m\u001B[38;5;124m'\u001B[39m], sol[\u001B[38;5;124m'\u001B[39m\u001B[38;5;124mstatus\u001B[39m\u001B[38;5;124m'\u001B[39m], sol[\u001B[38;5;124m'\u001B[39m\u001B[38;5;124mslack\u001B[39m\u001B[38;5;124m'\u001B[39m],\n\u001B[1;32m    664\u001B[0m                   sol[\u001B[38;5;124m'\u001B[39m\u001B[38;5;124mcon\u001B[39m\u001B[38;5;124m'\u001B[39m], lp\u001B[38;5;241m.\u001B[39mbounds, tol, sol[\u001B[38;5;124m'\u001B[39m\u001B[38;5;124mmessage\u001B[39m\u001B[38;5;124m'\u001B[39m],\n\u001B[1;32m    665\u001B[0m                   integrality))\n\u001B[1;32m    666\u001B[0m sol[\u001B[38;5;124m'\u001B[39m\u001B[38;5;124msuccess\u001B[39m\u001B[38;5;124m'\u001B[39m] \u001B[38;5;241m=\u001B[39m sol[\u001B[38;5;124m'\u001B[39m\u001B[38;5;124mstatus\u001B[39m\u001B[38;5;124m'\u001B[39m] \u001B[38;5;241m==\u001B[39m \u001B[38;5;241m0\u001B[39m\n",
      "File \u001B[0;32m~/miniforge3/envs/epm/lib/python3.13/site-packages/scipy/optimize/_linprog_highs.py:355\u001B[0m, in \u001B[0;36m_linprog_highs\u001B[0;34m(lp, solver, time_limit, presolve, disp, maxiter, dual_feasibility_tolerance, primal_feasibility_tolerance, ipm_optimality_tolerance, simplex_dual_edge_weight_strategy, mip_rel_gap, mip_max_nodes, **unknown_options)\u001B[0m\n\u001B[1;32m    352\u001B[0m \u001B[38;5;28;01melse\u001B[39;00m:\n\u001B[1;32m    353\u001B[0m     integrality \u001B[38;5;241m=\u001B[39m np\u001B[38;5;241m.\u001B[39marray(integrality)\n\u001B[0;32m--> 355\u001B[0m res \u001B[38;5;241m=\u001B[39m \u001B[43m_highs_wrapper\u001B[49m\u001B[43m(\u001B[49m\u001B[43mc\u001B[49m\u001B[43m,\u001B[49m\u001B[43m \u001B[49m\u001B[43mA\u001B[49m\u001B[38;5;241;43m.\u001B[39;49m\u001B[43mindptr\u001B[49m\u001B[43m,\u001B[49m\u001B[43m \u001B[49m\u001B[43mA\u001B[49m\u001B[38;5;241;43m.\u001B[39;49m\u001B[43mindices\u001B[49m\u001B[43m,\u001B[49m\u001B[43m \u001B[49m\u001B[43mA\u001B[49m\u001B[38;5;241;43m.\u001B[39;49m\u001B[43mdata\u001B[49m\u001B[43m,\u001B[49m\u001B[43m \u001B[49m\u001B[43mlhs\u001B[49m\u001B[43m,\u001B[49m\u001B[43m \u001B[49m\u001B[43mrhs\u001B[49m\u001B[43m,\u001B[49m\n\u001B[1;32m    356\u001B[0m \u001B[43m                     \u001B[49m\u001B[43mlb\u001B[49m\u001B[43m,\u001B[49m\u001B[43m \u001B[49m\u001B[43mub\u001B[49m\u001B[43m,\u001B[49m\u001B[43m \u001B[49m\u001B[43mintegrality\u001B[49m\u001B[38;5;241;43m.\u001B[39;49m\u001B[43mastype\u001B[49m\u001B[43m(\u001B[49m\u001B[43mnp\u001B[49m\u001B[38;5;241;43m.\u001B[39;49m\u001B[43muint8\u001B[49m\u001B[43m)\u001B[49m\u001B[43m,\u001B[49m\u001B[43m \u001B[49m\u001B[43moptions\u001B[49m\u001B[43m)\u001B[49m\n\u001B[1;32m    358\u001B[0m \u001B[38;5;66;03m# HiGHS represents constraints as lhs/rhs, so\u001B[39;00m\n\u001B[1;32m    359\u001B[0m \u001B[38;5;66;03m# Ax + s = b => Ax = b - s\u001B[39;00m\n\u001B[1;32m    360\u001B[0m \u001B[38;5;66;03m# and we need to split up s by A_ub and A_eq\u001B[39;00m\n\u001B[1;32m    361\u001B[0m \u001B[38;5;28;01mif\u001B[39;00m \u001B[38;5;124m'\u001B[39m\u001B[38;5;124mslack\u001B[39m\u001B[38;5;124m'\u001B[39m \u001B[38;5;129;01min\u001B[39;00m res:\n",
      "File \u001B[0;32m~/miniforge3/envs/epm/lib/python3.13/site-packages/scipy/optimize/_highspy/_highs_wrapper.py:270\u001B[0m, in \u001B[0;36m_highs_wrapper\u001B[0;34m(c, indptr, indices, data, lhs, rhs, lb, ub, integrality, options)\u001B[0m\n\u001B[1;32m    268\u001B[0m     \u001B[38;5;28;01mif\u001B[39;00m basis\u001B[38;5;241m.\u001B[39mcol_status[ii] \u001B[38;5;241m==\u001B[39m _h\u001B[38;5;241m.\u001B[39mHighsBasisStatus\u001B[38;5;241m.\u001B[39mkLower:\n\u001B[1;32m    269\u001B[0m         marg_bnds[\u001B[38;5;241m0\u001B[39m, ii] \u001B[38;5;241m=\u001B[39m solution\u001B[38;5;241m.\u001B[39mcol_dual[ii]\n\u001B[0;32m--> 270\u001B[0m     \u001B[38;5;28;01melif\u001B[39;00m basis\u001B[38;5;241m.\u001B[39mcol_status[ii] \u001B[38;5;241m==\u001B[39m _h\u001B[38;5;241m.\u001B[39mHighsBasisStatus\u001B[38;5;241m.\u001B[39mkUpper:\n\u001B[1;32m    271\u001B[0m         marg_bnds[\u001B[38;5;241m1\u001B[39m, ii] \u001B[38;5;241m=\u001B[39m solution\u001B[38;5;241m.\u001B[39mcol_dual[ii]\n\u001B[1;32m    273\u001B[0m res\u001B[38;5;241m.\u001B[39mupdate(\n\u001B[1;32m    274\u001B[0m     {\n\u001B[1;32m    275\u001B[0m         \u001B[38;5;124m\"\u001B[39m\u001B[38;5;124mstatus\u001B[39m\u001B[38;5;124m\"\u001B[39m: model_status,\n\u001B[0;32m   (...)\u001B[0m\n\u001B[1;32m    289\u001B[0m     }\n\u001B[1;32m    290\u001B[0m )\n",
      "\u001B[0;31mKeyboardInterrupt\u001B[0m: "
     ]
    }
   ],
   "execution_count": 4
  },
  {
   "metadata": {},
   "cell_type": "code",
   "outputs": [],
   "execution_count": null,
   "source": [
    "# Checks\n",
    "n = config['hours']\n",
    "residual_eq = A_eq.dot(res.x) - b_eq\n",
    "print(\"Max absolute residual in A_eq:\", np.max(np.abs(residual_eq)))\n",
    "print(\"Storage start vs end:\", res.x[2], res.x[5*(n-1) + 2])\n",
    "print(\"Difference (should be ≈ 0):\", res.x[2] - res.x[5*(n-1) + 2])"
   ],
   "id": "b3c2317ac3a029d7"
  },
  {
   "metadata": {},
   "cell_type": "code",
   "outputs": [],
   "execution_count": null,
   "source": [
    "plt.figure(figsize=(12, 6))\n",
    "plt.plot(hydro_namibia.reset_index(drop=True).index, hydro_namibia['ruacana'], label='Ruacana')\n",
    "plt.plot(hydro_namibia.reset_index(drop=True).index, hydro_namibia['baynes'], label='Baynes')\n",
    "plt.plot(hydro_namibia.reset_index(drop=True).index, hydro_namibia['baynes_smoothed_v2'], label='Baynes smoothed')\n",
    "# plt.plot(hydro_namibia.reset_index(drop=True).index, hydro_namibia['baynes_storage'], label='Baynes storage')\n",
    "\n",
    "plt.xlabel('Hour (0 to 8760)')\n",
    "plt.ylabel('Power (MW)')\n",
    "plt.legend()\n",
    "plt.grid(True)\n",
    "plt.tight_layout()\n",
    "plt.show()"
   ],
   "id": "b719c04c677aa9c3"
  },
  {
   "metadata": {},
   "cell_type": "code",
   "outputs": [],
   "execution_count": null,
   "source": [
    "# Obtaining seasonal capacity factor\n",
    "# Hourly values are not trustworthy, since hydro power plant is assumed to operate as a reservoir, and reservoir rules will be termined through dispatch decisions. Goal of the algorithm is to obtain a simple proxy for reservoir behavior, with the only objective to smooth reservoir production across seasons and inside a season\n",
    "\n",
    "seasons_dict = {\n",
    "    1: 1,\n",
    "    2: 1,\n",
    "    3: 1,\n",
    "    4: 2,\n",
    "    5: 2,\n",
    "    6: 2,\n",
    "    7: 3,\n",
    "    8: 3,\n",
    "    9: 3,\n",
    "    10: 4,\n",
    "    11: 4,\n",
    "    12: 4\n",
    "}  # grouping months into 4 seasons, to define according to user\n",
    "hydro_namibia.reset_index(inplace=True)\n",
    "hydro_namibia['season'] = hydro_namibia.apply(lambda row: seasons_dict[row['month']], axis=1)\n",
    "hydro_namibia.groupby(['season'])[['baynes', 'baynes_smoothed_v2']].sum().reset_index()  # getting average capacity factor across seasons"
   ],
   "id": "af981370a91e403"
  }
 ],
 "metadata": {
  "kernelspec": {
   "display_name": "Python 3",
   "language": "python",
   "name": "python3"
  },
  "language_info": {
   "codemirror_mode": {
    "name": "ipython",
    "version": 2
   },
   "file_extension": ".py",
   "mimetype": "text/x-python",
   "name": "python",
   "nbconvert_exporter": "python",
   "pygments_lexer": "ipython2",
   "version": "2.7.6"
  }
 },
 "nbformat": 4,
 "nbformat_minor": 5
}
